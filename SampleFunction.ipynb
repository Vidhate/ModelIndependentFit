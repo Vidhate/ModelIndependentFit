{
 "cells": [
  {
   "cell_type": "code",
   "execution_count": 10,
   "metadata": {},
   "outputs": [],
   "source": [
    "import numpy as np\n",
    "import pandas \n",
    "import random\n",
    "from scipy import interpolate as int\n",
    "import matplotlib.pyplot as plt"
   ]
  },
  {
   "cell_type": "code",
   "execution_count": 5,
   "metadata": {},
   "outputs": [
    {
     "data": {
      "text/html": [
       "<div>\n",
       "<style scoped>\n",
       "    .dataframe tbody tr th:only-of-type {\n",
       "        vertical-align: middle;\n",
       "    }\n",
       "\n",
       "    .dataframe tbody tr th {\n",
       "        vertical-align: top;\n",
       "    }\n",
       "\n",
       "    .dataframe thead th {\n",
       "        text-align: right;\n",
       "    }\n",
       "</style>\n",
       "<table border=\"1\" class=\"dataframe\">\n",
       "  <thead>\n",
       "    <tr style=\"text-align: right;\">\n",
       "      <th></th>\n",
       "      <th>wt</th>\n",
       "      <th>loglik</th>\n",
       "      <th>omegabh2</th>\n",
       "      <th>omegach2</th>\n",
       "      <th>theta</th>\n",
       "      <th>baryfeed</th>\n",
       "      <th>logA</th>\n",
       "      <th>ns</th>\n",
       "      <th>b1_cmass</th>\n",
       "      <th>b1_lowz</th>\n",
       "      <th>...</th>\n",
       "      <th>thetaeq*</th>\n",
       "      <th>thetarseq*</th>\n",
       "      <th>rsDv057*</th>\n",
       "      <th>Hubble057*</th>\n",
       "      <th>DA057*</th>\n",
       "      <th>FAP057*</th>\n",
       "      <th>fsigma8z057*</th>\n",
       "      <th>sigma8z057*</th>\n",
       "      <th>chi2_*</th>\n",
       "      <th>chi2_prior*</th>\n",
       "    </tr>\n",
       "  </thead>\n",
       "  <tbody>\n",
       "    <tr>\n",
       "      <th>0</th>\n",
       "      <td>3.0</td>\n",
       "      <td>34.49108</td>\n",
       "      <td>0.022856</td>\n",
       "      <td>0.109462</td>\n",
       "      <td>1.039119</td>\n",
       "      <td>3.110098</td>\n",
       "      <td>3.155740</td>\n",
       "      <td>0.972533</td>\n",
       "      <td>2.046067</td>\n",
       "      <td>1.870541</td>\n",
       "      <td>...</td>\n",
       "      <td>0.859056</td>\n",
       "      <td>0.472747</td>\n",
       "      <td>0.027548</td>\n",
       "      <td>423.8008</td>\n",
       "      <td>1454.368</td>\n",
       "      <td>10.48541</td>\n",
       "      <td>0.212789</td>\n",
       "      <td>0.215501</td>\n",
       "      <td>68.98215</td>\n",
       "      <td>0.0</td>\n",
       "    </tr>\n",
       "    <tr>\n",
       "      <th>1</th>\n",
       "      <td>1.0</td>\n",
       "      <td>34.08485</td>\n",
       "      <td>0.023204</td>\n",
       "      <td>0.108968</td>\n",
       "      <td>1.040173</td>\n",
       "      <td>3.128051</td>\n",
       "      <td>3.174125</td>\n",
       "      <td>0.975756</td>\n",
       "      <td>1.874374</td>\n",
       "      <td>1.731408</td>\n",
       "      <td>...</td>\n",
       "      <td>0.861680</td>\n",
       "      <td>0.473846</td>\n",
       "      <td>0.027575</td>\n",
       "      <td>423.7184</td>\n",
       "      <td>1448.356</td>\n",
       "      <td>10.44004</td>\n",
       "      <td>0.215363</td>\n",
       "      <td>0.218192</td>\n",
       "      <td>68.16970</td>\n",
       "      <td>0.0</td>\n",
       "    </tr>\n",
       "    <tr>\n",
       "      <th>2</th>\n",
       "      <td>1.0</td>\n",
       "      <td>33.71273</td>\n",
       "      <td>0.023351</td>\n",
       "      <td>0.108219</td>\n",
       "      <td>1.040065</td>\n",
       "      <td>3.133961</td>\n",
       "      <td>3.183059</td>\n",
       "      <td>0.977731</td>\n",
       "      <td>1.810648</td>\n",
       "      <td>1.431701</td>\n",
       "      <td>...</td>\n",
       "      <td>0.864996</td>\n",
       "      <td>0.475434</td>\n",
       "      <td>0.027575</td>\n",
       "      <td>422.8465</td>\n",
       "      <td>1447.481</td>\n",
       "      <td>10.41226</td>\n",
       "      <td>0.216138</td>\n",
       "      <td>0.219032</td>\n",
       "      <td>67.42547</td>\n",
       "      <td>0.0</td>\n",
       "    </tr>\n",
       "    <tr>\n",
       "      <th>3</th>\n",
       "      <td>1.0</td>\n",
       "      <td>34.69539</td>\n",
       "      <td>0.023417</td>\n",
       "      <td>0.107615</td>\n",
       "      <td>1.039888</td>\n",
       "      <td>3.122919</td>\n",
       "      <td>3.187756</td>\n",
       "      <td>0.979057</td>\n",
       "      <td>1.627229</td>\n",
       "      <td>1.398683</td>\n",
       "      <td>...</td>\n",
       "      <td>0.867723</td>\n",
       "      <td>0.476782</td>\n",
       "      <td>0.027575</td>\n",
       "      <td>422.0490</td>\n",
       "      <td>1447.498</td>\n",
       "      <td>10.39274</td>\n",
       "      <td>0.216442</td>\n",
       "      <td>0.219379</td>\n",
       "      <td>69.39078</td>\n",
       "      <td>0.0</td>\n",
       "    </tr>\n",
       "    <tr>\n",
       "      <th>4</th>\n",
       "      <td>1.0</td>\n",
       "      <td>33.83989</td>\n",
       "      <td>0.023417</td>\n",
       "      <td>0.107615</td>\n",
       "      <td>1.039888</td>\n",
       "      <td>3.122919</td>\n",
       "      <td>3.194346</td>\n",
       "      <td>0.986225</td>\n",
       "      <td>1.830173</td>\n",
       "      <td>1.179053</td>\n",
       "      <td>...</td>\n",
       "      <td>0.867723</td>\n",
       "      <td>0.476782</td>\n",
       "      <td>0.027575</td>\n",
       "      <td>422.0490</td>\n",
       "      <td>1447.498</td>\n",
       "      <td>10.39274</td>\n",
       "      <td>0.217778</td>\n",
       "      <td>0.220733</td>\n",
       "      <td>67.67977</td>\n",
       "      <td>0.0</td>\n",
       "    </tr>\n",
       "    <tr>\n",
       "      <th>5</th>\n",
       "      <td>1.0</td>\n",
       "      <td>34.83448</td>\n",
       "      <td>0.023417</td>\n",
       "      <td>0.107615</td>\n",
       "      <td>1.039888</td>\n",
       "      <td>3.122919</td>\n",
       "      <td>3.139248</td>\n",
       "      <td>0.985603</td>\n",
       "      <td>1.710204</td>\n",
       "      <td>1.141092</td>\n",
       "      <td>...</td>\n",
       "      <td>0.867723</td>\n",
       "      <td>0.476782</td>\n",
       "      <td>0.027575</td>\n",
       "      <td>422.0490</td>\n",
       "      <td>1447.498</td>\n",
       "      <td>10.39274</td>\n",
       "      <td>0.211808</td>\n",
       "      <td>0.214682</td>\n",
       "      <td>69.66897</td>\n",
       "      <td>0.0</td>\n",
       "    </tr>\n",
       "    <tr>\n",
       "      <th>6</th>\n",
       "      <td>3.0</td>\n",
       "      <td>34.75700</td>\n",
       "      <td>0.023487</td>\n",
       "      <td>0.107573</td>\n",
       "      <td>1.039979</td>\n",
       "      <td>3.122477</td>\n",
       "      <td>3.142735</td>\n",
       "      <td>0.986024</td>\n",
       "      <td>1.554768</td>\n",
       "      <td>0.888556</td>\n",
       "      <td>...</td>\n",
       "      <td>0.867865</td>\n",
       "      <td>0.476799</td>\n",
       "      <td>0.027576</td>\n",
       "      <td>422.1113</td>\n",
       "      <td>1446.599</td>\n",
       "      <td>10.38782</td>\n",
       "      <td>0.212209</td>\n",
       "      <td>0.215097</td>\n",
       "      <td>69.51400</td>\n",
       "      <td>0.0</td>\n",
       "    </tr>\n",
       "    <tr>\n",
       "      <th>7</th>\n",
       "      <td>2.0</td>\n",
       "      <td>35.19932</td>\n",
       "      <td>0.023401</td>\n",
       "      <td>0.106982</td>\n",
       "      <td>1.039987</td>\n",
       "      <td>3.147807</td>\n",
       "      <td>3.140325</td>\n",
       "      <td>0.986946</td>\n",
       "      <td>1.505068</td>\n",
       "      <td>0.936451</td>\n",
       "      <td>...</td>\n",
       "      <td>0.871009</td>\n",
       "      <td>0.478494</td>\n",
       "      <td>0.027589</td>\n",
       "      <td>421.0845</td>\n",
       "      <td>1447.594</td>\n",
       "      <td>10.36969</td>\n",
       "      <td>0.211935</td>\n",
       "      <td>0.214855</td>\n",
       "      <td>70.39863</td>\n",
       "      <td>0.0</td>\n",
       "    </tr>\n",
       "    <tr>\n",
       "      <th>8</th>\n",
       "      <td>1.0</td>\n",
       "      <td>35.48506</td>\n",
       "      <td>0.023671</td>\n",
       "      <td>0.105706</td>\n",
       "      <td>1.039990</td>\n",
       "      <td>3.155690</td>\n",
       "      <td>3.156603</td>\n",
       "      <td>0.990552</td>\n",
       "      <td>1.373706</td>\n",
       "      <td>1.038647</td>\n",
       "      <td>...</td>\n",
       "      <td>0.876946</td>\n",
       "      <td>0.481325</td>\n",
       "      <td>0.027597</td>\n",
       "      <td>419.6402</td>\n",
       "      <td>1445.314</td>\n",
       "      <td>10.31784</td>\n",
       "      <td>0.213420</td>\n",
       "      <td>0.216465</td>\n",
       "      <td>70.97011</td>\n",
       "      <td>0.0</td>\n",
       "    </tr>\n",
       "    <tr>\n",
       "      <th>9</th>\n",
       "      <td>1.0</td>\n",
       "      <td>33.25510</td>\n",
       "      <td>0.023746</td>\n",
       "      <td>0.109897</td>\n",
       "      <td>1.040482</td>\n",
       "      <td>3.177581</td>\n",
       "      <td>3.148722</td>\n",
       "      <td>0.982594</td>\n",
       "      <td>1.270697</td>\n",
       "      <td>1.229413</td>\n",
       "      <td>...</td>\n",
       "      <td>0.856378</td>\n",
       "      <td>0.470672</td>\n",
       "      <td>0.027545</td>\n",
       "      <td>426.0294</td>\n",
       "      <td>1441.980</td>\n",
       "      <td>10.45077</td>\n",
       "      <td>0.213303</td>\n",
       "      <td>0.216083</td>\n",
       "      <td>66.51019</td>\n",
       "      <td>0.0</td>\n",
       "    </tr>\n",
       "  </tbody>\n",
       "</table>\n",
       "<p>10 rows × 57 columns</p>\n",
       "</div>"
      ],
      "text/plain": [
       "    wt    loglik  omegabh2  omegach2     theta  baryfeed      logA        ns  \\\n",
       "0  3.0  34.49108  0.022856  0.109462  1.039119  3.110098  3.155740  0.972533   \n",
       "1  1.0  34.08485  0.023204  0.108968  1.040173  3.128051  3.174125  0.975756   \n",
       "2  1.0  33.71273  0.023351  0.108219  1.040065  3.133961  3.183059  0.977731   \n",
       "3  1.0  34.69539  0.023417  0.107615  1.039888  3.122919  3.187756  0.979057   \n",
       "4  1.0  33.83989  0.023417  0.107615  1.039888  3.122919  3.194346  0.986225   \n",
       "5  1.0  34.83448  0.023417  0.107615  1.039888  3.122919  3.139248  0.985603   \n",
       "6  3.0  34.75700  0.023487  0.107573  1.039979  3.122477  3.142735  0.986024   \n",
       "7  2.0  35.19932  0.023401  0.106982  1.039987  3.147807  3.140325  0.986946   \n",
       "8  1.0  35.48506  0.023671  0.105706  1.039990  3.155690  3.156603  0.990552   \n",
       "9  1.0  33.25510  0.023746  0.109897  1.040482  3.177581  3.148722  0.982594   \n",
       "\n",
       "   b1_cmass   b1_lowz     ...       thetaeq*  thetarseq*  rsDv057*  \\\n",
       "0  2.046067  1.870541     ...       0.859056    0.472747  0.027548   \n",
       "1  1.874374  1.731408     ...       0.861680    0.473846  0.027575   \n",
       "2  1.810648  1.431701     ...       0.864996    0.475434  0.027575   \n",
       "3  1.627229  1.398683     ...       0.867723    0.476782  0.027575   \n",
       "4  1.830173  1.179053     ...       0.867723    0.476782  0.027575   \n",
       "5  1.710204  1.141092     ...       0.867723    0.476782  0.027575   \n",
       "6  1.554768  0.888556     ...       0.867865    0.476799  0.027576   \n",
       "7  1.505068  0.936451     ...       0.871009    0.478494  0.027589   \n",
       "8  1.373706  1.038647     ...       0.876946    0.481325  0.027597   \n",
       "9  1.270697  1.229413     ...       0.856378    0.470672  0.027545   \n",
       "\n",
       "   Hubble057*    DA057*   FAP057*  fsigma8z057*  sigma8z057*    chi2_*  \\\n",
       "0    423.8008  1454.368  10.48541      0.212789     0.215501  68.98215   \n",
       "1    423.7184  1448.356  10.44004      0.215363     0.218192  68.16970   \n",
       "2    422.8465  1447.481  10.41226      0.216138     0.219032  67.42547   \n",
       "3    422.0490  1447.498  10.39274      0.216442     0.219379  69.39078   \n",
       "4    422.0490  1447.498  10.39274      0.217778     0.220733  67.67977   \n",
       "5    422.0490  1447.498  10.39274      0.211808     0.214682  69.66897   \n",
       "6    422.1113  1446.599  10.38782      0.212209     0.215097  69.51400   \n",
       "7    421.0845  1447.594  10.36969      0.211935     0.214855  70.39863   \n",
       "8    419.6402  1445.314  10.31784      0.213420     0.216465  70.97011   \n",
       "9    426.0294  1441.980  10.45077      0.213303     0.216083  66.51019   \n",
       "\n",
       "   chi2_prior*  \n",
       "0          0.0  \n",
       "1          0.0  \n",
       "2          0.0  \n",
       "3          0.0  \n",
       "4          0.0  \n",
       "5          0.0  \n",
       "6          0.0  \n",
       "7          0.0  \n",
       "8          0.0  \n",
       "9          0.0  \n",
       "\n",
       "[10 rows x 57 columns]"
      ]
     },
     "execution_count": 5,
     "metadata": {},
     "output_type": "execute_result"
    }
   ],
   "source": [
    "df_lab = pandas.read_csv(\"chain.paramnames\", usecols=([0]), header=None, delim_whitespace=1, names=([\"labels\"]) )\n",
    "labels = list(df_lab[\"labels\"].values)\n",
    "labels.insert(0, \"loglik\")\n",
    "labels.insert(0, \"wt\")\n",
    "df = pandas.read_csv(\"chain_4.txt\", header=None, names=labels, delim_whitespace=1)\n",
    "\n",
    "df.head(10)"
   ]
  },
  {
   "cell_type": "code",
   "execution_count": 26,
   "metadata": {},
   "outputs": [
    {
     "data": {
      "text/plain": [
       "[<matplotlib.lines.Line2D at 0x7f6659581d30>]"
      ]
     },
     "execution_count": 26,
     "metadata": {},
     "output_type": "execute_result"
    },
    {
     "data": {
      "image/png": "[encoded data removed]",
      "text/plain": [
       "<Figure size 432x288 with 1 Axes>"
      ]
     },
     "metadata": {
      "needs_background": "light"
     },
     "output_type": "display_data"
    }
   ],
   "source": [
    "Omega_m = np.mean(df[\"omegach2\"].values)\n",
    "H0 = np.mean(df[\"H0*\"].values)\n",
    "sigma8 = np.mean(df[\"sigma8*\"].values)\n",
    "\n",
    "paramSet=np.random.rand(100000,3)+0.5\n",
    "\n",
    "g=(Omega_m**paramSet[:,0])*(H0**paramSet[:,1])*(sigma8**paramSet[:,2])\n",
    "g_=np.histogram(g,bins=100)\n",
    "bins=g_[1]\n",
    "binmid=(bins[1:]+bins[:-1])/2\n",
    "plt.plot(binmid,g_[0])"
   ]
  },
  {
   "cell_type": "code",
   "execution_count": 31,
   "metadata": {},
   "outputs": [],
   "source": [
    "l=bins[0]\n",
    "u=bins[1]\n",
    "alpha,beta,gamma=paramSet[g<u,0],paramSet[g<u,1],paramSet[g<u,2]"
   ]
  },
  {
   "cell_type": "code",
   "execution_count": 32,
   "metadata": {},
   "outputs": [
    {
     "data": {
      "text/plain": [
       "[<matplotlib.lines.Line2D at 0x7f665978f390>]"
      ]
     },
     "execution_count": 32,
     "metadata": {},
     "output_type": "execute_result"
    },
    {
     "data": {
      "image/png": "[encoded data removed]",
      "text/plain": [
       "<Figure size 432x288 with 1 Axes>"
      ]
     },
     "metadata": {
      "needs_background": "light"
     },
     "output_type": "display_data"
    }
   ],
   "source": [
    "dummy1=np.histogram(alpha,bins=100)\n",
    "bins1=dummy1[1]\n",
    "binmid1=(bins1[1:]+bins1[:-1])/2\n",
    "plt.plot(binmid1,dummy1[0])"
   ]
  },
  {
   "cell_type": "code",
   "execution_count": 39,
   "metadata": {},
   "outputs": [
    {
     "data": {
      "text/plain": [
       "[<matplotlib.lines.Line2D at 0x7f6659d7ea58>]"
      ]
     },
     "execution_count": 39,
     "metadata": {},
     "output_type": "execute_result"
    },
    {
     "data": {
      "image/png": "[encoded data removed]",
      "text/plain": [
       "<Figure size 432x288 with 1 Axes>"
      ]
     },
     "metadata": {
      "needs_background": "light"
     },
     "output_type": "display_data"
    }
   ],
   "source": [
    "dummy2=np.histogram(beta,bins=100)\n",
    "bins2=dummy2[1]\n",
    "binmid2=(bins2[1:]+bins2[:-1])/2\n",
    "plt.plot(binmid2,dummy2[0])"
   ]
  },
  {
   "cell_type": "code",
   "execution_count": 40,
   "metadata": {},
   "outputs": [
    {
     "data": {
      "text/plain": [
       "[<matplotlib.lines.Line2D at 0x7f665986b898>]"
      ]
     },
     "execution_count": 40,
     "metadata": {},
     "output_type": "execute_result"
    },
    {
     "data": {
      "image/png": "[encoded data removed]",
      "text/plain": [
       "<Figure size 432x288 with 1 Axes>"
      ]
     },
     "metadata": {
      "needs_background": "light"
     },
     "output_type": "display_data"
    }
   ],
   "source": [
    "dummy3=np.histogram(gamma,bins=100)\n",
    "bins3=dummy3[1]\n",
    "binmid3=(bins3[1:]+bins3[:-1])/2\n",
    "plt.plot(binmid3,dummy3[0])"
   ]
  },
  {
   "cell_type": "code",
   "execution_count": 9,
   "metadata": {},
   "outputs": [
    {
     "data": {
      "text/plain": [
       "array([0.18706974, 0.1315779 , 0.06987105, 0.01197985, 0.36605779])"
      ]
     },
     "execution_count": 9,
     "metadata": {},
     "output_type": "execute_result"
    }
   ],
   "source": [
    "r=np.random.rand(3,5)\n",
    "r[0,:]"
   ]
  },
  {
   "cell_type": "code",
   "execution_count": null,
   "metadata": {},
   "outputs": [],
   "source": []
  }
 ],
 "metadata": {
  "kernelspec": {
   "display_name": "Python 3",
   "language": "python",
   "name": "python3"
  },
  "language_info": {
   "codemirror_mode": {
    "name": "ipython",
    "version": 3
   },
   "file_extension": ".py",
   "mimetype": "text/x-python",
   "name": "python",
   "nbconvert_exporter": "python",
   "pygments_lexer": "ipython3",
   "version": "3.7.1"
  }
 },
 "nbformat": 4,
 "nbformat_minor": 2
}
