{
 "cells": [
  {
   "cell_type": "markdown",
   "metadata": {},
   "source": [
    "## Code description\n",
    "The Source file contains too many columns which are irrelevant to the current study and can be dropped, and hence, the size of the source file can be reduced drastically. This will save space on RAM and make the computational overhead much lighter."
   ]
  },
  {
   "cell_type": "code",
   "execution_count": 18,
   "metadata": {},
   "outputs": [],
   "source": [
    "import numpy as np\n",
    "import pandas as pd\n",
    "import pickle"
   ]
  },
  {
   "cell_type": "code",
   "execution_count": 19,
   "metadata": {},
   "outputs": [],
   "source": [
    "# Loading data\n",
    "pathname=\"./SourceData/\"\n",
    "metaname=\"chain.paramnames\"\n",
    "fname=\"chain_4.txt\"\n",
    "\n",
    "dfmeta=pd.read_csv(pathname+metaname,usecols=([0]),delim_whitespace=1,names=([\"labels\"]))\n",
    "labels=list(dfmeta[\"labels\"].values)\n",
    "labels.insert(0, \"loglik\")\n",
    "labels.insert(0, \"wt\")\n",
    "\n",
    "dfdata=pd.read_csv(pathname+fname,names=labels,delim_whitespace=1)"
   ]
  },
  {
   "cell_type": "code",
   "execution_count": 20,
   "metadata": {},
   "outputs": [],
   "source": [
    "# Capturing the relevant values in these 3 variables\n",
    "Omega_m = dfdata[\"omegach2\"].values\n",
    "H0 = dfdata[\"H0*\"].values\n",
    "sigma8 = dfdata[\"sigma8*\"].values"
   ]
  },
  {
   "cell_type": "code",
   "execution_count": 21,
   "metadata": {},
   "outputs": [
    {
     "name": "stdout",
     "output_type": "stream",
     "text": [
      "Written successfully\n"
     ]
    }
   ],
   "source": [
    "# Writing these values to a descriptive .txt file which can be loaded directly using numpy.loadtxt()\n",
    "outname=\"OmH0Sigma8\"\n",
    "with open(pathname+outname+\".txt\",'w') as f:\n",
    "    f.write(\"# Values of OmegaCH2  H0  Sigma8 in the same order, as cleaned from source file \"+fname)\n",
    "    for O,H,S in zip(Omega_m,H0,sigma8):\n",
    "        f.write(str(O)+\" \"+str(H)+\" \"+str(S)+\"\\n\")\n",
    "    print(\"Written successfully\")"
   ]
  },
  {
   "cell_type": "code",
   "execution_count": 22,
   "metadata": {},
   "outputs": [
    {
     "name": "stdout",
     "output_type": "stream",
     "text": [
      "pickle dumped successfully\n"
     ]
    }
   ],
   "source": [
    "# Also creating a pickle dump of these values so that they can be loaded directly into a numpy array\n",
    "# Shape is (N,3) with [Omega_m,H0,sigma8] as the columns respectively\n",
    "masterData=np.array([Omega_m,H0,sigma8]).T\n",
    "pickle.dump(masterData,open(pathname+outname+\".p\",'wb'))\n",
    "print(\"pickle dumped successfully\")"
   ]
  },
  {
   "cell_type": "code",
   "execution_count": null,
   "metadata": {},
   "outputs": [],
   "source": []
  }
 ],
 "metadata": {
  "kernelspec": {
   "display_name": "Python 3",
   "language": "python",
   "name": "python3"
  },
  "language_info": {
   "codemirror_mode": {
    "name": "ipython",
    "version": 3
   },
   "file_extension": ".py",
   "mimetype": "text/x-python",
   "name": "python",
   "nbconvert_exporter": "python",
   "pygments_lexer": "ipython3",
   "version": "3.7.1"
  }
 },
 "nbformat": 4,
 "nbformat_minor": 2
}
